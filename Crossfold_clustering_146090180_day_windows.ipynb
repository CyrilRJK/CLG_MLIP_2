{
 "cells": [
  {
   "cell_type": "markdown",
   "execution_count": null,
   "metadata": {},
   "source": [
    "# Credits to"
   ]
  },
  {
   "cell_type": "markdown",
   "execution_count": null,
   "metadata": {},
   "source": [
    "[1] https://www.kaggle.com/mayer79/m5-forecast-keras-with-categorical-embeddings-v2 \n",
    "\n",
    "[2] https://www.kaggle.com/ragnar123/very-fst-model\n",
    "\n",
    "[3] https://www.kaggle.com/mayer79/m5-forecast-poisson-loss\n",
    "\n",
    "[4] https://www.kaggle.com/sayanotsu/walmart-weekly-sales-aggregation "
   ]
  },
  {
   "cell_type": "markdown",
   "execution_count": null,
   "metadata": {},
   "source": [
    "# Libraries"
   ]
  },
  {
   "cell_type": "code",
   "execution_count": 1,
   "metadata": {},
   "outputs": [],
   "source": [
    "import warnings\n",
    "warnings.filterwarnings('ignore')\n",
    "import pandas as pd\n",
    "import numpy as np\n",
    "import gc\n",
    "import os\n",
    "from tqdm.notebook import tqdm\n",
    "import matplotlib.pyplot as plt\n",
    "from sklearn.preprocessing import OrdinalEncoder\n",
    "from sklearn.model_selection import train_test_split\n",
    "import time\n",
    "import pickle\n",
    "import lightgbm as lgb\n",
    "from sklearn.model_selection import GroupKFold\n",
    "from sklearn import metrics\n",
    "from datetime import datetime, timedelta"
   ]
  },
  {
   "cell_type": "code",
   "execution_count": 2,
   "metadata": {},
   "outputs": [],
   "source": [
    "LAGS = [7, 28]\n",
    "WINDOWS = [7, 14, 28,60, 90, 180]\n",
    "FIRST = 1914\n",
    "LENGTH = 28\n",
    "FOLDS = 3\n",
    "drop_d = 1000 # best to ditch the first two years aka 730, or 900\n",
    "\n",
    "np.random.seed(0)\n",
    "\n",
    "features = ['month', 'week', 'dept_id', 'snap_CA', 'wday', 'item_id', 'cat_id',\n",
    "       'snap_TX', 'sell_price', 'lag_t28', 'rolling_mean_lag28_w7',\n",
    "       'event_type_2', 'event_name_1', 'event_type_1',\n",
    "       'lag_t7', 'snap_WI', 'sell_price_rel_diff', 'event_name_2', 'year', 'rolling_mean_lag7_w7',\n",
    "       'rolling_mean_lag7_w28', 'rolling_mean_lag28_w28', 'state_id','store_id', 'clusters', 'rolling_mean_lag28_w60','rolling_mean_lag7_w60', 'rolling_mean_lag28_w14','rolling_mean_lag7_w14']\n",
    "\n",
    "cat_feats = ['item_id', 'dept_id','store_id', 'cat_id', 'state_id'] + [\"event_name_1\", \"event_name_2\", \"event_type_1\", \"event_type_2\"]\n",
    "\n",
    "#'rolling_mean_lag28_w60','rolling_mean_lag7_w60', , 'price_max', 'price_norm', 'price_mean', 'price_std'\n",
    "\n",
    "drop = ['id', 'd', 'demand', \"date\", \"sales\", \"weekday\"]\n",
    "\n",
    "encoder_file = open('encoders', 'wb')"
   ]
  },
  {
   "cell_type": "code",
   "execution_count": 3,
   "metadata": {},
   "outputs": [],
   "source": [
    "'''\n",
    "Got from: [1]\n",
    "'''\n",
    "def reduce_mem_usage(df, verbose=True):\n",
    "    numerics = ['int16', 'int32', 'int64', 'float16', 'float32', 'float64']\n",
    "    start_mem = df.memory_usage().sum() / 1024**2    \n",
    "    for col in df.columns:\n",
    "        col_type = df[col].dtypes\n",
    "        if col_type in numerics:\n",
    "            c_min = df[col].min()\n",
    "            c_max = df[col].max()\n",
    "            if str(col_type)[:3] == 'int':\n",
    "                if c_min > np.iinfo(np.int8).min and c_max < np.iinfo(np.int8).max:\n",
    "                    df[col] = df[col].astype(np.int8)\n",
    "                elif c_min > np.iinfo(np.int16).min and c_max < np.iinfo(np.int16).max:\n",
    "                    df[col] = df[col].astype(np.int16)\n",
    "                elif c_min > np.iinfo(np.int32).min and c_max < np.iinfo(np.int32).max:\n",
    "                    df[col] = df[col].astype(np.int32)\n",
    "                elif c_min > np.iinfo(np.int64).min and c_max < np.iinfo(np.int64).max:\n",
    "                    df[col] = df[col].astype(np.int64)  \n",
    "            else:\n",
    "                if c_min > np.finfo(np.float16).min and c_max < np.finfo(np.float16).max:\n",
    "                    df[col] = df[col].astype(np.float32)\n",
    "                elif c_min > np.finfo(np.float32).min and c_max < np.finfo(np.float32).max:\n",
    "                    df[col] = df[col].astype(np.float32)\n",
    "                else:\n",
    "                    df[col] = df[col].astype(np.float64)    \n",
    "    end_mem = df.memory_usage().sum() / 1024**2\n",
    "    if verbose: print('Mem. usage decreased to {:5.2f} Mb ({:.1f}% reduction)'.format(end_mem, 100 * (start_mem - end_mem) / start_mem))\n",
    "    return df"
   ]
  },
  {
   "cell_type": "markdown",
   "execution_count": null,
   "metadata": {},
   "source": [
    "# Prepare Dataframes"
   ]
  },
  {
   "cell_type": "code",
   "execution_count": 4,
   "metadata": {},
   "outputs": [
    {
     "name": "stdout",
     "output_type": "stream",
     "text": [
      "Mem. usage decreased to  2.09 Mb (84.5% reduction)\n"
     ]
    }
   ],
   "source": [
    "'''\n",
    "Got from: [1]\n",
    "'''\n",
    "path = \"../input/m5-forecasting-accuracy\"\n",
    "\n",
    "calendar = pd.read_csv(os.path.join(path, \"calendar.csv\"))\n",
    "selling_prices = pd.read_csv(os.path.join(path, \"sell_prices.csv\"))\n",
    "sample_submission = reduce_mem_usage(pd.read_csv(os.path.join(path, \"sample_submission.csv\")))\n",
    "sales = pd.read_csv(os.path.join(path, \"sales_train_validation.csv\"))"
   ]
  },
  {
   "cell_type": "code",
   "execution_count": 5,
   "metadata": {},
   "outputs": [],
   "source": [
    "'''\n",
    "Got from: [1]\n",
    "- The columns \"Date\" and \"Weekday\" are dropped as they contain redundant information.\n",
    "- Normally, the column \"d\" is like \"d_1,d_2,...\". Make it \"1,2,..\" and the type integer\n",
    "- If there is no event (I think), there is NA. We will replace them with \"NoEvent\" string. Originally, it was replaced with\n",
    "  \"missing\", but I don't think it makes sense as I don't think there is missing information, I think they just left \n",
    "  the days without any event as NA.\n",
    "- We enumerate most of the columns:\n",
    "    - We do not enumerate \"d\" and \"wm_yr_weak\" because we will use these columns for joins.\n",
    "    - Why do we enumerate month and day? I think it is because they start from 1, not 0.\n",
    "    - Originally, the binary columns \"snap_X\" were also enumerated. I don't think it is necessary. The only neccessary step\n",
    "      was to convert their type from int64 to int as it uses less space; but reduce_mem_usage will take care of that.\n",
    "- I would suggest saving the OrdinalEncoder in case we need to reverse the transformations\n",
    "'''\n",
    "def prep_calendar(df,encoder_file):\n",
    "    \n",
    "    # from[4], add week as a column to dataframe \n",
    "    df['date'] = pd.to_datetime(df['date'])\n",
    "    wm_yr_wk_values = np.sort(df['wm_yr_wk'].unique())\n",
    "    wm_yr_wk_values_new = np.arange(len(wm_yr_wk_values))\n",
    "    wm_yr_wk_values_replace = dict(zip(wm_yr_wk_values, wm_yr_wk_values_new))\n",
    "    df['week'] = df['wm_yr_wk'].replace(wm_yr_wk_values_replace).astype('int16')\n",
    "    del wm_yr_wk_values_replace, wm_yr_wk_values_new, wm_yr_wk_values\n",
    "\n",
    "    df = df.drop([\"weekday\"], axis=1)  # date was dropped here\n",
    "    df = df.assign(d = df.d.str[2:].astype(int))\n",
    "    df = df.fillna(\"NoEvent\")\n",
    "    cols = list(set(df.columns) - {\"wm_yr_wk\", \"d\",\"snap_CA\",\"snap_TX\",\"snap_WI\"}) \n",
    "    oe = OrdinalEncoder(dtype=\"int\")\n",
    "    df[cols] = oe.fit_transform(df[cols])\n",
    "    pickle.dump(oe,encoder_file)\n",
    "    df = reduce_mem_usage(df)\n",
    "    return df\n",
    "\n",
    "'''\n",
    "Got from: [1]\n",
    "Originally, there were features added in this part. I excluded them until we decide whether to use those or not.\n",
    "'''\n",
    "def prep_selling_prices(df):\n",
    "    df = reduce_mem_usage(df)\n",
    "    return df\n",
    "\n",
    "'''\n",
    "Got from: [1]\n",
    "- We drop the first \"drop_d\" days. Originally, this is set to 1000. When it is set to this value,\n",
    "  the shape we get 29,544,810 rows. When we don't set it, we get 60,034,810 rows. I think for now \n",
    "  we can keep this functionality, as it may be useful if we would like to discard some of the days.\n",
    "- In some id's, we have \"_validation\". Those are deleted.\n",
    "- reindex: Conform DataFrame to new index with optional filling logic (obtained from pandas doc). \n",
    "  We add days 1914+2*28 to prepare data from submission\n",
    "- We have to melt the sales dataframe since days are contained as columns.\n",
    "- assign: Returns a new object with all original columns in addition to new ones. Existing columns \n",
    "  that are re-assigned will be overwritten (obtained from pandas doc). Again, we make the values \n",
    "  \"d_1, d-2,...\" to \"1,2,...\"\n",
    "'''\n",
    "#We have to melt sales for sure because the days are columns, which is not desirable.\n",
    "def reshape_sales(df, drop_d = None):\n",
    "    if drop_d is not None:\n",
    "        df = df.drop([\"d_\" + str(i + 1) for i in range(drop_d)], axis=1)\n",
    "    df = df.assign(id=df.id.str.replace(\"_validation\", \"\"))\n",
    "    df = df.reindex(columns=df.columns.tolist() + [\"d_\" + str(1913 + i + 1) for i in range(2 * 28)])\n",
    "    df = df.melt(id_vars=[\"id\", \"item_id\", \"dept_id\", \"cat_id\", \"store_id\", 'state_id','clusters'],\n",
    "                 var_name='d', value_name='demand')\n",
    "    df = df.assign(d=df.d.str[2:].astype(\"int16\"), demand=df.demand.astype(\"float32\"))\n",
    "    return df"
   ]
  },
  {
   "cell_type": "code",
   "execution_count": 6,
   "metadata": {},
   "outputs": [
    {
     "name": "stdout",
     "output_type": "stream",
     "text": [
      "1520.9607285463176\n",
      "969.5659837184746\n",
      "721.8405469130893\n",
      "558.2729501775724\n",
      "470.99303002064164\n",
      "405.330412858428\n",
      "359.85574412183536\n",
      "322.90497008138055\n",
      "293.8926163312859\n",
      "269.8988427223552\n",
      "248.15082109840628\n",
      "231.366519530106\n",
      "218.2082298394991\n",
      "206.04173238493343\n",
      "194.83372997235443\n",
      "184.55953881479633\n",
      "175.69520690020522\n",
      "167.63489014518265\n"
     ]
    },
    {
     "data": {
      "text/plain": [
       "0"
      ]
     },
     "execution_count": 6,
     "metadata": {},
     "output_type": "execute_result"
    }
   ],
   "source": [
    "from sklearn.cluster import KMeans\n",
    "from sklearn.preprocessing import MinMaxScaler\n",
    "from sklearn import mixture\n",
    "\n",
    "means = np.zeros((30490,3))\n",
    "weights= np.zeros((30490,3))\n",
    "covs= np.zeros((30490,3))\n",
    "\n",
    "sales2 = sales.drop([\"item_id\",\"dept_id\",\"cat_id\",\"store_id\",\"state_id\",\"id\"],axis=1)\n",
    "\n",
    "for i in range(30490):\n",
    "    gmm = mixture.GaussianMixture(n_components=3,covariance_type=\"full\")\n",
    "    gmm.fit(sales2.iloc[i].values.reshape(-1, 1))\n",
    "    ctr = 0\n",
    "    for gauss in np.argsort(gmm.weights_)[::-1]:\n",
    "        means[i][ctr] = gmm.means_[gauss]\n",
    "        weights[i][ctr] = gmm.weights_[gauss]\n",
    "        covs[i][ctr] = gmm.covariances_[gauss]\n",
    "        ctr += 1\n",
    "        \n",
    "sales2[\"mean_0\"]= means[:,0]\n",
    "sales2[\"mean_1\"]= means[:,1]\n",
    "sales2[\"mean_2\"]= means[:,2]\n",
    "sales2[\"cov_0\"] = covs[:,0]\n",
    "sales2[\"cov_1\"] = covs[:,1]\n",
    "sales2[\"cov_2\"] = covs[:,2]\n",
    "sales2[\"weights_0\"] =weights[:,0]\n",
    "sales2[\"weights_1\"] =weights[:,1]\n",
    "sales2[\"weights_2\"] =weights[:,2]\n",
    "\n",
    "sales2 = sales2[[\"mean_0\",\"mean_1\" ,\"mean_2\" ,\"cov_0\" ,\"cov_1\" ,\"cov_2\",\"weights_0\",\"weights_1\",\"weights_2\"]]\n",
    "\n",
    "scaler = MinMaxScaler()\n",
    "sales2 = scaler.fit_transform(sales2)\n",
    "gc.collect()\n",
    "\n",
    "inertias = []\n",
    "for i in range(2,20):\n",
    "    kmeans = KMeans(n_clusters=i, random_state=0).fit(sales2)\n",
    "    print(kmeans.inertia_)\n",
    "    inertias.append(kmeans.inertia_)\n",
    "\n",
    "kmeans = KMeans(n_clusters=6, random_state=0).fit_predict(sales2)\n",
    "\n",
    "sales[\"clusters\"] = kmeans\n",
    "\n",
    "\n",
    "del sales2,kmeans, inertias,scaler,means,weights,covs\n",
    "gc.collect()"
   ]
  },
  {
   "cell_type": "code",
   "execution_count": 7,
   "metadata": {},
   "outputs": [
    {
     "name": "stdout",
     "output_type": "stream",
     "text": [
      "Mem. usage decreased to  0.03 Mb (83.9% reduction)\n",
      "Mem. usage decreased to 143.53 Mb (31.2% reduction)\n"
     ]
    }
   ],
   "source": [
    "calendar = prep_calendar(calendar,encoder_file)\n",
    "selling_prices = prep_selling_prices(selling_prices)\n",
    "sales = reshape_sales(sales, drop_d)"
   ]
  },
  {
   "cell_type": "code",
   "execution_count": 8,
   "metadata": {},
   "outputs": [
    {
     "data": {
      "text/html": [
       "<div>\n",
       "<style scoped>\n",
       "    .dataframe tbody tr th:only-of-type {\n",
       "        vertical-align: middle;\n",
       "    }\n",
       "\n",
       "    .dataframe tbody tr th {\n",
       "        vertical-align: top;\n",
       "    }\n",
       "\n",
       "    .dataframe thead th {\n",
       "        text-align: right;\n",
       "    }\n",
       "</style>\n",
       "<table border=\"1\" class=\"dataframe\">\n",
       "  <thead>\n",
       "    <tr style=\"text-align: right;\">\n",
       "      <th></th>\n",
       "      <th>id</th>\n",
       "      <th>item_id</th>\n",
       "      <th>dept_id</th>\n",
       "      <th>cat_id</th>\n",
       "      <th>store_id</th>\n",
       "      <th>state_id</th>\n",
       "      <th>clusters</th>\n",
       "      <th>d</th>\n",
       "      <th>demand</th>\n",
       "      <th>date</th>\n",
       "      <th>...</th>\n",
       "      <th>year</th>\n",
       "      <th>event_name_1</th>\n",
       "      <th>event_type_1</th>\n",
       "      <th>event_name_2</th>\n",
       "      <th>event_type_2</th>\n",
       "      <th>snap_CA</th>\n",
       "      <th>snap_TX</th>\n",
       "      <th>snap_WI</th>\n",
       "      <th>week</th>\n",
       "      <th>sell_price</th>\n",
       "    </tr>\n",
       "  </thead>\n",
       "  <tbody>\n",
       "    <tr>\n",
       "      <th>0</th>\n",
       "      <td>HOBBIES_1_001_CA_1</td>\n",
       "      <td>HOBBIES_1_001</td>\n",
       "      <td>HOBBIES_1</td>\n",
       "      <td>HOBBIES</td>\n",
       "      <td>CA_1</td>\n",
       "      <td>CA</td>\n",
       "      <td>1</td>\n",
       "      <td>1001</td>\n",
       "      <td>2.0</td>\n",
       "      <td>1000</td>\n",
       "      <td>...</td>\n",
       "      <td>2</td>\n",
       "      <td>19</td>\n",
       "      <td>2</td>\n",
       "      <td>3</td>\n",
       "      <td>1</td>\n",
       "      <td>0</td>\n",
       "      <td>0</td>\n",
       "      <td>0</td>\n",
       "      <td>142</td>\n",
       "      <td>8.26</td>\n",
       "    </tr>\n",
       "    <tr>\n",
       "      <th>1</th>\n",
       "      <td>HOBBIES_1_002_CA_1</td>\n",
       "      <td>HOBBIES_1_002</td>\n",
       "      <td>HOBBIES_1</td>\n",
       "      <td>HOBBIES</td>\n",
       "      <td>CA_1</td>\n",
       "      <td>CA</td>\n",
       "      <td>1</td>\n",
       "      <td>1001</td>\n",
       "      <td>0.0</td>\n",
       "      <td>1000</td>\n",
       "      <td>...</td>\n",
       "      <td>2</td>\n",
       "      <td>19</td>\n",
       "      <td>2</td>\n",
       "      <td>3</td>\n",
       "      <td>1</td>\n",
       "      <td>0</td>\n",
       "      <td>0</td>\n",
       "      <td>0</td>\n",
       "      <td>142</td>\n",
       "      <td>3.97</td>\n",
       "    </tr>\n",
       "    <tr>\n",
       "      <th>2</th>\n",
       "      <td>HOBBIES_1_003_CA_1</td>\n",
       "      <td>HOBBIES_1_003</td>\n",
       "      <td>HOBBIES_1</td>\n",
       "      <td>HOBBIES</td>\n",
       "      <td>CA_1</td>\n",
       "      <td>CA</td>\n",
       "      <td>5</td>\n",
       "      <td>1001</td>\n",
       "      <td>0.0</td>\n",
       "      <td>1000</td>\n",
       "      <td>...</td>\n",
       "      <td>2</td>\n",
       "      <td>19</td>\n",
       "      <td>2</td>\n",
       "      <td>3</td>\n",
       "      <td>1</td>\n",
       "      <td>0</td>\n",
       "      <td>0</td>\n",
       "      <td>0</td>\n",
       "      <td>142</td>\n",
       "      <td>NaN</td>\n",
       "    </tr>\n",
       "    <tr>\n",
       "      <th>3</th>\n",
       "      <td>HOBBIES_1_004_CA_1</td>\n",
       "      <td>HOBBIES_1_004</td>\n",
       "      <td>HOBBIES_1</td>\n",
       "      <td>HOBBIES</td>\n",
       "      <td>CA_1</td>\n",
       "      <td>CA</td>\n",
       "      <td>4</td>\n",
       "      <td>1001</td>\n",
       "      <td>0.0</td>\n",
       "      <td>1000</td>\n",
       "      <td>...</td>\n",
       "      <td>2</td>\n",
       "      <td>19</td>\n",
       "      <td>2</td>\n",
       "      <td>3</td>\n",
       "      <td>1</td>\n",
       "      <td>0</td>\n",
       "      <td>0</td>\n",
       "      <td>0</td>\n",
       "      <td>142</td>\n",
       "      <td>4.64</td>\n",
       "    </tr>\n",
       "    <tr>\n",
       "      <th>4</th>\n",
       "      <td>HOBBIES_1_005_CA_1</td>\n",
       "      <td>HOBBIES_1_005</td>\n",
       "      <td>HOBBIES_1</td>\n",
       "      <td>HOBBIES</td>\n",
       "      <td>CA_1</td>\n",
       "      <td>CA</td>\n",
       "      <td>3</td>\n",
       "      <td>1001</td>\n",
       "      <td>1.0</td>\n",
       "      <td>1000</td>\n",
       "      <td>...</td>\n",
       "      <td>2</td>\n",
       "      <td>19</td>\n",
       "      <td>2</td>\n",
       "      <td>3</td>\n",
       "      <td>1</td>\n",
       "      <td>0</td>\n",
       "      <td>0</td>\n",
       "      <td>0</td>\n",
       "      <td>142</td>\n",
       "      <td>3.08</td>\n",
       "    </tr>\n",
       "  </tbody>\n",
       "</table>\n",
       "<p>5 rows × 22 columns</p>\n",
       "</div>"
      ],
      "text/plain": [
       "                   id        item_id    dept_id   cat_id store_id state_id  \\\n",
       "0  HOBBIES_1_001_CA_1  HOBBIES_1_001  HOBBIES_1  HOBBIES     CA_1       CA   \n",
       "1  HOBBIES_1_002_CA_1  HOBBIES_1_002  HOBBIES_1  HOBBIES     CA_1       CA   \n",
       "2  HOBBIES_1_003_CA_1  HOBBIES_1_003  HOBBIES_1  HOBBIES     CA_1       CA   \n",
       "3  HOBBIES_1_004_CA_1  HOBBIES_1_004  HOBBIES_1  HOBBIES     CA_1       CA   \n",
       "4  HOBBIES_1_005_CA_1  HOBBIES_1_005  HOBBIES_1  HOBBIES     CA_1       CA   \n",
       "\n",
       "   clusters     d  demand  date  ...  year  event_name_1  event_type_1  \\\n",
       "0         1  1001     2.0  1000  ...     2            19             2   \n",
       "1         1  1001     0.0  1000  ...     2            19             2   \n",
       "2         5  1001     0.0  1000  ...     2            19             2   \n",
       "3         4  1001     0.0  1000  ...     2            19             2   \n",
       "4         3  1001     1.0  1000  ...     2            19             2   \n",
       "\n",
       "   event_name_2  event_type_2  snap_CA  snap_TX  snap_WI  week  sell_price  \n",
       "0             3             1        0        0        0   142        8.26  \n",
       "1             3             1        0        0        0   142        3.97  \n",
       "2             3             1        0        0        0   142         NaN  \n",
       "3             3             1        0        0        0   142        4.64  \n",
       "4             3             1        0        0        0   142        3.08  \n",
       "\n",
       "[5 rows x 22 columns]"
      ]
     },
     "execution_count": 8,
     "metadata": {},
     "output_type": "execute_result"
    }
   ],
   "source": [
    "'''\n",
    "Got from: [1]\n",
    "- Merge all the dataframes and delete the unnecessary ones\n",
    "- time.sleep() added to make sure garbage collector finishes its job before the next merge\n",
    "'''\n",
    "sales = sales.merge(calendar, how=\"left\", on=\"d\")\n",
    "del calendar\n",
    "gc.collect()\n",
    "time.sleep(5)\n",
    "sales = sales.merge(selling_prices, how=\"left\", on=[\"wm_yr_wk\", \"store_id\", \"item_id\"])\n",
    "del selling_prices\n",
    "sales.drop([\"wm_yr_wk\"], axis=1, inplace=True)\n",
    "gc.collect()\n",
    "time.sleep(5)\n",
    "sales.head()"
   ]
  },
  {
   "cell_type": "markdown",
   "execution_count": null,
   "metadata": {},
   "source": [
    "# Encode some variables"
   ]
  },
  {
   "cell_type": "code",
   "execution_count": 9,
   "metadata": {},
   "outputs": [
    {
     "name": "stdout",
     "output_type": "stream",
     "text": [
      "Mem. usage decreased to 1324.28 Mb (44.0% reduction)\n"
     ]
    },
    {
     "data": {
      "text/plain": [
       "0"
      ]
     },
     "execution_count": 9,
     "metadata": {},
     "output_type": "execute_result"
    }
   ],
   "source": [
    "'''\n",
    "Got from: [1]\n",
    "- We will also save the encoders in the pickle file.\n",
    "- The loop is slightly changed\n",
    "'''\n",
    "\n",
    "cat_id_cols = [\"item_id\", \"dept_id\", \"store_id\", \"cat_id\", \"state_id\"]\n",
    "\n",
    "# In loop to minimize memory use\n",
    "for col in cat_id_cols:\n",
    "    oe = OrdinalEncoder(dtype=\"int\")\n",
    "    sales[col] = oe.fit_transform(sales[[col]])\n",
    "    pickle.dump(oe,encoder_file)    \n",
    "sales = reduce_mem_usage(sales)\n",
    "gc.collect()"
   ]
  },
  {
   "cell_type": "code",
   "execution_count": 10,
   "metadata": {},
   "outputs": [
    {
     "data": {
      "text/plain": [
       "'\\nGot from: [1]\\n- These features were originally added in prep_selling_prices function to the \\n  selling_prices dataframe, which does not exist anymore. But we can use the same\\n  code to add these to sales dataframe as well as the columns are the same.\\n- New feature=\"sell_price_rel_diff\"\\n  pct_change(): Computes the percentage change from the immediately previous row by default. (Obtained from pandas doc.)\\n  The two lines below adds the percentage of change of each item that is sold in the stores. Of course, for the\\n  first datapoint, there is no previous, so this code produces an NA. Since there are 3049x10=30490 different (item,store)\\n  pairs, this new column has 30490 NAs.\\n- New feature=\"sell_price_roll_sd7\"\\n  Rolling standard deviation: Moving Standard Deviation is a statistical measurement of market volatility (Google). We check the\\n  past 7 days.\\n- New feature=\"sell_price_cumrel\"\\n  I think this is cumulative related frequency. I am not sure and I did not understand it clearly. I think\\n  it is some kind of normalization, because we subtract the minimum and divide by max-min+1.\\n- It runs without problems, but the RAM gets almost filled up so it gives you a heart attack.\\n- No need to call reduce_mem_usage() after as I tried and it did not save any additional space.\\n'"
      ]
     },
     "execution_count": 10,
     "metadata": {},
     "output_type": "execute_result"
    }
   ],
   "source": [
    "'''\n",
    "Got from: [1]\n",
    "- These features were originally added in prep_selling_prices function to the \n",
    "  selling_prices dataframe, which does not exist anymore. But we can use the same\n",
    "  code to add these to sales dataframe as well as the columns are the same.\n",
    "- New feature=\"sell_price_rel_diff\"\n",
    "  pct_change(): Computes the percentage change from the immediately previous row by default. (Obtained from pandas doc.)\n",
    "  The two lines below adds the percentage of change of each item that is sold in the stores. Of course, for the\n",
    "  first datapoint, there is no previous, so this code produces an NA. Since there are 3049x10=30490 different (item,store)\n",
    "  pairs, this new column has 30490 NAs.\n",
    "- New feature=\"sell_price_roll_sd7\"\n",
    "  Rolling standard deviation: Moving Standard Deviation is a statistical measurement of market volatility (Google). We check the\n",
    "  past 7 days.\n",
    "- New feature=\"sell_price_cumrel\"\n",
    "  I think this is cumulative related frequency. I am not sure and I did not understand it clearly. I think\n",
    "  it is some kind of normalization, because we subtract the minimum and divide by max-min+1.\n",
    "- It runs without problems, but the RAM gets almost filled up so it gives you a heart attack.\n",
    "- No need to call reduce_mem_usage() after as I tried and it did not save any additional space.\n",
    "'''\n",
    "\n",
    "#gr = sales.groupby([\"store_id\", \"item_id\"])[\"sell_price\"]\n",
    "#sales[\"sell_price_rel_diff\"] = gr.pct_change()\n",
    "#sales[\"sell_price_cumrel\"] = (gr.shift(0) - gr.cummin()) / (1 + gr.cummax() - gr.cummin())\n",
    "\n",
    "#del gr\n",
    "#gc.collect()"
   ]
  },
  {
   "cell_type": "code",
   "execution_count": 11,
   "metadata": {},
   "outputs": [],
   "source": [
    "def demand_features(df):\n",
    "    \"\"\" Derive features from sales data and remove rows with missing values \"\"\"\n",
    "    \n",
    "    for lag in LAGS:\n",
    "        df[f'lag_t{lag}'] = df.groupby('id')['demand'].transform(lambda x: x.shift(lag)).astype(\"float32\")\n",
    "        for w in WINDOWS:\n",
    "            df[f'rolling_mean_lag{lag}_w{w}'] = df.groupby('id')[f'lag_t{lag}'].transform(lambda x: x.rolling(w).mean()).astype(\"float32\")\n",
    "            \n",
    "            \n",
    "        date_features = {\n",
    "        \n",
    "        \"wday\": \"weekday\",\n",
    "        \"week\": \"weekofyear\",\n",
    "        \"month\": \"month\",\n",
    "        \"quarter\": \"quarter\",\n",
    "        \"year\": \"year\",\n",
    "        \"mday\": \"day\",\n",
    "    }\n",
    "    \n",
    "    df[\"date\"] = pd.to_datetime(df[\"date\"])\n",
    "    for date_feat_name, date_feat_func in date_features.items():\n",
    "        if date_feat_name in df.columns:\n",
    "            df[date_feat_name] = df[date_feat_name].astype(\"int16\")\n",
    "        else:\n",
    "            df[date_feat_name] = getattr(df[\"date\"].dt, date_feat_func).astype(\"int16\")\n",
    "        \n",
    "    return df\n",
    "\n",
    "def demand_features_eval(df):\n",
    "    \"\"\" Same as demand_features but for the step-by-step evaluation \"\"\"\n",
    "    out = df.groupby('id', sort=False).last()\n",
    "    for lag in LAGS:\n",
    "        out[f'lag_t{lag}'] = df.groupby('id', sort=False)['demand'].nth(-lag-1).astype(\"float32\")\n",
    "        for w in WINDOWS:\n",
    "            out[f'rolling_mean_lag{lag}_w{w}'] = df.groupby('id', sort=False)['demand'].nth(list(range(-lag-w, -lag))).groupby('id', sort=False).mean().astype(\"float32\")\n",
    "    \n",
    "    return out.reset_index()"
   ]
  },
  {
   "cell_type": "code",
   "execution_count": 12,
   "metadata": {},
   "outputs": [
    {
     "data": {
      "text/plain": [
       "\"\\nGot from: [1]\\nAppearantly, [1] derived the features from [2].\\n\\n- The features include rolling means and standard deviations for different number of days.\\n  I think this is also a measure of market volatiliy.\\n- After this, original notebook deletes rows producing NAs. 'rolling_mean_t180' produces the most NAs as I\\n  believe the value of first 180 days will be NA because to compute this we need 180 days prior. I do not \\n  know whether adding these features is so important to delete that much data. Hence, I will keep it for now.\\n  I think time ranges can also be changed.\\n\""
      ]
     },
     "execution_count": 12,
     "metadata": {},
     "output_type": "execute_result"
    }
   ],
   "source": [
    "'''\n",
    "Got from: [1]\n",
    "Appearantly, [1] derived the features from [2].\n",
    "\n",
    "- The features include rolling means and standard deviations for different number of days.\n",
    "  I think this is also a measure of market volatiliy.\n",
    "- After this, original notebook deletes rows producing NAs. 'rolling_mean_t180' produces the most NAs as I\n",
    "  believe the value of first 180 days will be NA because to compute this we need 180 days prior. I do not \n",
    "  know whether adding these features is so important to delete that much data. Hence, I will keep it for now.\n",
    "  I think time ranges can also be changed.\n",
    "'''\n",
    "\n",
    "#gr = sales.groupby([\"id\"])[\"demand\"]\n",
    "#sales['lag_t28'] = gr.transform(lambda x: x.shift(28))\n",
    "#sales['rolling_mean_t7'] = gr.transform(lambda x: x.shift(28).rolling(7).mean())\n",
    "#sales['rolling_mean_t30'] = gr.transform(lambda x: x.shift(28).rolling(30).mean())\n",
    "#sales['rolling_mean_t60'] = gr.transform(lambda x: x.shift(28).rolling(60).mean())\n",
    "#sales['rolling_mean_t90'] = gr.transform(lambda x: x.shift(28).rolling(90).mean())\n",
    "#sales['rolling_mean_t180'] = gr.transform(lambda x: x.shift(28).rolling(180).mean())\n",
    "#sales['rolling_std_t7'] = gr.transform(lambda x: x.shift(28).rolling(7).std())\n",
    "#sales['rolling_std_t30'] = gr.transform(lambda x: x.shift(28).rolling(30).std())\n",
    "\n",
    "\n",
    "# lora's custom features\n",
    "\n",
    "#sales['price_max'] = gr.transform('max')\n",
    "#sales['price_min'] = gr.transform('min')\n",
    "#sales['price_std'] = gr.transform('std')\n",
    "#sales['price_mean'] =gr.transform('mean')\n",
    "#sales['price_norm'] = sales['sell_price']/sales['price_max']\n",
    "#sales['price_momentum'] =   sales['sell_price']/gr.transform(lambda x: x.shift(1))\n",
    "#sales['price_momentum_m'] = sales['sell_price']/gr.transform('mean')\n",
    "#sales['price_momentum_y'] = sales['sell_price']/gr.transform('mean')\n",
    "\n",
    "#del gr\n",
    "#sales = reduce_mem_usage(sales)\n",
    "#gc.collect()\n"
   ]
  },
  {
   "cell_type": "code",
   "execution_count": 13,
   "metadata": {},
   "outputs": [
    {
     "name": "stdout",
     "output_type": "stream",
     "text": [
      "Mem. usage decreased to 2456.21 Mb (4.3% reduction)\n"
     ]
    },
    {
     "data": {
      "text/plain": [
       "29"
      ]
     },
     "execution_count": 13,
     "metadata": {},
     "output_type": "execute_result"
    }
   ],
   "source": [
    "sales = demand_features(sales)\n",
    "sales = sales[sales.d > (drop_d + max(LAGS) + max(WINDOWS))]\n",
    "sales = reduce_mem_usage(sales)\n",
    "gc.collect()"
   ]
  },
  {
   "cell_type": "code",
   "execution_count": 14,
   "metadata": {},
   "outputs": [
    {
     "data": {
      "text/plain": [
       "0"
      ]
     },
     "execution_count": 14,
     "metadata": {},
     "output_type": "execute_result"
    }
   ],
   "source": [
    "x = list(set(sales.columns) - {'id', 'd', 'demand', \"date\", \"sales\", \"weekday\"}) # dropped date, sales and weekday as they don't contribute much\n",
    "test = sales[sales.d >= FIRST - max(LAGS) - max(WINDOWS)] # add windows needed to provide test features\n",
    "sales = sales[sales.d < FIRST]\n",
    "labels = sales['demand']#.values.astype(np.float32)\n",
    "sales = sales[x]\n",
    "encoder_file.close()\n",
    "gc.collect()"
   ]
  },
  {
   "cell_type": "code",
   "execution_count": 15,
   "metadata": {},
   "outputs": [],
   "source": [
    "def temp_pred_to_csv(fit, test, x, fold, cols=sample_submission.columns, file=\"submission.csv\"):\n",
    "    \"\"\" Calculate predictions and append to submission csv \"\"\"\n",
    "    \n",
    "    # Recursive prediction\n",
    "    for i, day in enumerate(np.arange(FIRST, FIRST + LENGTH)):\n",
    "        test_day = demand_features_eval(test[(test.d <= day) & (test.d >= day - max(LAGS) - max(WINDOWS))])\n",
    "        test.loc[test.d == day, \"demand\"] = fit.predict(test_day[x]) * 1.03 # https://www.kaggle.com/kyakovlev/m5-dark-magic\n",
    "    \n",
    "    # Prepare for reshaping\n",
    "    test = test.assign(id=test.id + \"_\" + np.where(test.d < FIRST + LENGTH, \"validation\", \"evaluation\"),\n",
    "                       F=\"F\" + (test.d - FIRST + 1 - LENGTH * (test.d >= FIRST + LENGTH)).astype(\"str\"))\n",
    "    \n",
    "    # Reshape\n",
    "    submission = test.pivot(index=\"id\", columns=\"F\", values=\"demand\").reset_index()[cols].fillna(1)\n",
    "    \n",
    "    # Export\n",
    "    submission.to_csv(file+f'{fold}', index=False)\n",
    "    \n",
    "    return True"
   ]
  },
  {
   "cell_type": "code",
   "execution_count": 16,
   "metadata": {},
   "outputs": [],
   "source": [
    "# taken from [3]\n",
    "def fit_model(train, valid):\n",
    "    \"\"\" Fit LightGBM model \"\"\"\n",
    "     \n",
    "    params = {\n",
    "                'boosting_type': 'gbdt',\n",
    "                'objective': 'tweedie',\n",
    "                'tweedie_variance_power': 1.1,\n",
    "                'metric': 'rmse',\n",
    "                'subsample': 0.5,\n",
    "                'subsample_freq': 1,\n",
    "                'learning_rate': 0.031,\n",
    "                'num_leaves': 2**11-1,\n",
    "                'min_data_in_leaf': 2**12-1,\n",
    "                'feature_fraction': 0.5,\n",
    "                'max_bin': 100,\n",
    "                'n_estimators': 800,\n",
    "                'boost_from_average': False,\n",
    "                'verbose': -1,\n",
    "                'seed': 0\n",
    "                } \n",
    "\n",
    "    fit = lgb.train(params, \n",
    "                    train, \n",
    "                    num_boost_round = 2000, # should be 2000\n",
    "                    valid_sets = [valid], \n",
    "                    early_stopping_rounds = 200,\n",
    "                    verbose_eval = 100)\n",
    "    \n",
    "    lgb.plot_importance(fit, importance_type=\"gain\", precision=0, height=0.5, figsize=(6, 10));\n",
    "    \n",
    "    return fit"
   ]
  },
  {
   "cell_type": "code",
   "execution_count": 17,
   "metadata": {},
   "outputs": [
    {
     "name": "stdout",
     "output_type": "stream",
     "text": [
      "get folds and groups\n",
      "preprared data...\n",
      "Training fold 1\n",
      "Training until validation scores don't improve for 200 rounds\n",
      "[100]\tvalid_0's rmse: 2.1945\n",
      "[200]\tvalid_0's rmse: 2.15597\n",
      "[300]\tvalid_0's rmse: 2.14045\n",
      "[400]\tvalid_0's rmse: 2.13203\n",
      "[500]\tvalid_0's rmse: 2.12496\n",
      "[600]\tvalid_0's rmse: 2.11834\n",
      "[700]\tvalid_0's rmse: 2.11361\n",
      "[800]\tvalid_0's rmse: 2.10995\n",
      "Did not meet early stopping. Best iteration is:\n",
      "[800]\tvalid_0's rmse: 2.10995\n",
      "Finished training 1\n",
      "Training fold 2\n",
      "Training until validation scores don't improve for 200 rounds\n",
      "[100]\tvalid_0's rmse: 2.18986\n",
      "[200]\tvalid_0's rmse: 2.14667\n",
      "[300]\tvalid_0's rmse: 2.13209\n",
      "[400]\tvalid_0's rmse: 2.12314\n",
      "[500]\tvalid_0's rmse: 2.11683\n",
      "[600]\tvalid_0's rmse: 2.11161\n",
      "[700]\tvalid_0's rmse: 2.10719\n",
      "[800]\tvalid_0's rmse: 2.10281\n",
      "Did not meet early stopping. Best iteration is:\n",
      "[799]\tvalid_0's rmse: 2.1028\n",
      "Finished training 2\n",
      "Training fold 3\n",
      "Training until validation scores don't improve for 200 rounds\n",
      "[100]\tvalid_0's rmse: 2.16645\n",
      "[200]\tvalid_0's rmse: 2.12999\n",
      "[300]\tvalid_0's rmse: 2.11769\n",
      "[400]\tvalid_0's rmse: 2.11106\n",
      "[500]\tvalid_0's rmse: 2.10575\n",
      "[600]\tvalid_0's rmse: 2.10174\n",
      "[700]\tvalid_0's rmse: 2.09767\n",
      "[800]\tvalid_0's rmse: 2.09408\n",
      "Did not meet early stopping. Best iteration is:\n",
      "[800]\tvalid_0's rmse: 2.09408\n",
      "Finished training 3\n"
     ]
    },
    {
     "data": {
      "image/png": "[encoded data removed]",
      "text/plain": [
       "<Figure size 432x720 with 1 Axes>"
      ]
     },
     "metadata": {
      "needs_background": "light"
     },
     "output_type": "display_data"
    },
    {
     "data": {
      "image/png": "[encoded data removed]",
      "text/plain": [
       "<Figure size 432x720 with 1 Axes>"
      ]
     },
     "metadata": {
      "needs_background": "light"
     },
     "output_type": "display_data"
    },
    {
     "data": {
      "image/png": "[encoded data removed]",
      "text/plain": [
       "<Figure size 432x720 with 1 Axes>"
      ]
     },
     "metadata": {
      "needs_background": "light"
     },
     "output_type": "display_data"
    }
   ],
   "source": [
    "kf = GroupKFold(FOLDS)\n",
    "group = sales['week'].astype(str) + '_' + sales['year'].astype(str)\n",
    "print('get folds and groups')    \n",
    "\n",
    "\n",
    "#fake_valid_inds = np.random.choice(sales.index.values, 1_000_000, replace = False)\n",
    "#train_inds = np.setdiff1d(sales.index.values, fake_valid_inds)\n",
    "cat_feats = [sales.columns.get_loc(c) for c in cat_feats if c in sales]\n",
    "sales_x = sales.values.astype(np.float32)\n",
    "#sales_x_val = sales.loc[fake_valid_inds].values.astype(np.float32)\n",
    "del sales\n",
    "sales_y = labels.values.astype(np.float32)\n",
    "#sales_y_val = labels.loc[fake_valid_inds].values.astype(np.float32)\n",
    "del labels\n",
    "gc.collect()\n",
    "\n",
    "print('preprared data...')\n",
    "\n",
    "\n",
    "for fold, (trn_idx, val_idx) in enumerate(kf.split(sales_x, sales_y, group)):\n",
    "        \n",
    "    print(f'Training fold {fold + 1}')\n",
    "    train_set = lgb.Dataset(sales_x[trn_idx], sales_y[trn_idx], categorical_feature=cat_feats, \n",
    "                         free_raw_data=False)\n",
    "    val_set = lgb.Dataset(sales_x[val_idx], sales_y[val_idx], categorical_feature=cat_feats, \n",
    "                         free_raw_data=False)         \n",
    "    fit = fit_model(train_set, val_set)\n",
    "    del train_set, val_set\n",
    "    gc.collect()\n",
    "    print(f'Finished training {fold + 1}')\n",
    "\n",
    "\n",
    "    # predict test\n",
    "    temp_pred_to_csv(fit, test, x, fold)\n",
    "    \n",
    "preds_0=pd.read_csv('submission'+'.csv0')\n",
    "preds_1=pd.read_csv('submission'+'.csv1')\n",
    "preds_2=pd.read_csv('submission'+'.csv2')\n",
    "\n",
    "preds = pd.DataFrame()\n",
    "preds['id'] = preds_0['id']\n",
    "for item in preds_0:\n",
    "    if item!='id':\n",
    "        preds[item]=(preds_0[item]*(1/FOLDS))+(preds_1[item]*(1/FOLDS))+(preds_2[item]*(1/FOLDS))\n",
    "preds.to_csv('submission.csv', index=False)"
   ]
  },
  {
   "cell_type": "code",
   "execution_count": 18,
   "metadata": {},
   "outputs": [],
   "source": [
    "#fit = fit_model(train_data, fake_valid_data)"
   ]
  },
  {
   "cell_type": "code",
   "execution_count": 19,
   "metadata": {},
   "outputs": [],
   "source": [
    "def pred_to_csv(fit, test, x, cols=sample_submission.columns, file=\"submission.csv\"):\n",
    "    \"\"\" Calculate predictions and append to submission csv \"\"\"\n",
    "    \n",
    "    # Recursive prediction\n",
    "    for i, day in enumerate(np.arange(FIRST, FIRST + LENGTH)):\n",
    "        test_day = demand_features_eval(test[(test.d <= day) & (test.d >= day - max(LAGS) - max(WINDOWS))])\n",
    "        test.loc[test.d == day, \"demand\"] = fit.predict(test_day[x]) * 1.03 # https://www.kaggle.com/kyakovlev/m5-dark-magic\n",
    "    \n",
    "    # Prepare for reshaping\n",
    "    test = test.assign(id=test.id + \"_\" + np.where(test.d < FIRST + LENGTH, \"validation\", \"evaluation\"),\n",
    "                       F=\"F\" + (test.d - FIRST + 1 - LENGTH * (test.d >= FIRST + LENGTH)).astype(\"str\"))\n",
    "    \n",
    "    # Reshape\n",
    "    submission = test.pivot(index=\"id\", columns=\"F\", values=\"demand\").reset_index()[cols].fillna(1)\n",
    "    \n",
    "    # Export\n",
    "    submission.to_csv(file, index=False)\n",
    "    \n",
    "    return True\n",
    "\n",
    "#pred_to_csv(fit, test, x)"
   ]
  },
  {
   "cell_type": "code",
   "execution_count": 20,
   "metadata": {},
   "outputs": [
    {
     "data": {
      "text/plain": [
       "'\\ndef temp_pred_to_csv(fit, test, x, fold, cols=sample_submission.columns, file=\"submission.csv\"):\\n    \"\"\" Calculate predictions and append to submission csv \"\"\"\\n    \\n    # Recursive prediction\\n    for i, day in enumerate(np.arange(FIRST, FIRST + LENGTH)):\\n        test_day = demand_features_eval(test[(test.d <= day) & (test.d >= day - max(LAGS) - max(WINDOWS))])\\n        test.loc[test.d == day, \"demand\"] = fit.predict(test_day[x]) * 1.03 # https://www.kaggle.com/kyakovlev/m5-dark-magic\\n    \\n    # Prepare for reshaping\\n    test = test.assign(id=test.id + \"_\" + np.where(test.d < FIRST + LENGTH, \"validation\", \"evaluation\"),\\n                       F=\"F\" + (test.d - FIRST + 1 - LENGTH * (test.d >= FIRST + LENGTH)).astype(\"str\"))\\n    \\n    # Reshape\\n    submission = test.pivot(index=\"id\", columns=\"F\", values=\"demand\").reset_index()[cols].fillna(1)\\n    \\n    # Export\\n    submission.to_csv(file+f\\'{fold}\\', index=False)\\n    \\n    return True\\n\\n\\nkf = GroupKFold(FOLDS)\\ngroup = sales[\\'week\\'].astype(str) + \\'_\\' + sales[\\'year\\'].astype(str)\\nprint(\\'get folds and groups\\')    \\nx_train_np = sales.values.astype(np.float32)\\ndel sales\\ngc.collect()\\n\\nprint(\\'preprared data...\\')\\n    \\nfor fold, (trn_idx, val_idx) in enumerate(kf.split(x_train_np, labels, group)):\\n        \\n    print(f\\'Training fold {fold + 1}\\')\\n    train_set = lgb.Dataset(x_train_np[trn_idx], labels[trn_idx], feature_name = features)\\n    val_set = lgb.Dataset(x_train_np[val_idx], labels[val_idx], feature_name = features)         \\n    fit = fit_model(train_set, val_set)\\n    print(f\\'Finished training {fold + 1}\\')\\n\\n\\n    # predict test\\n    temp_pred_to_csv(fit, test, x, fold)\\n    \\npreds_0=pd.read_csv(\\'submission\\'+\\'.csv0\\')\\npreds_1=pd.read_csv(\\'submission\\'+\\'.csv1\\')\\npreds_2=pd.read_csv(\\'submission\\'+\\'.csv2\\')\\n#preds_3=pd.read_csv(\\'submission\\'+\\'3.csv\\')\\n#preds_4=pd.read_csv(\\'submission\\'+\\'4.csv\\')\\n\\n# merge preds\\npreds = pd.DataFrame()\\npreds[\\'id\\'] = preds_0[\\'id\\']\\nfor item in preds_0:\\n    if item!=\\'id\\':\\n        preds[item]=(preds_0[item]*(1/FOLDS))+(preds_1[item]*(1/FOLDS))+(preds_2[item]*(1/FOLDS))\\npreds.to_csv(\\'submission.csv\\', index=False)\\n'"
      ]
     },
     "execution_count": 20,
     "metadata": {},
     "output_type": "execute_result"
    }
   ],
   "source": [
    "# taken from [3]\n",
    "'''\n",
    "def temp_pred_to_csv(fit, test, x, fold, cols=sample_submission.columns, file=\"submission.csv\"):\n",
    "    \"\"\" Calculate predictions and append to submission csv \"\"\"\n",
    "    \n",
    "    # Recursive prediction\n",
    "    for i, day in enumerate(np.arange(FIRST, FIRST + LENGTH)):\n",
    "        test_day = demand_features_eval(test[(test.d <= day) & (test.d >= day - max(LAGS) - max(WINDOWS))])\n",
    "        test.loc[test.d == day, \"demand\"] = fit.predict(test_day[x]) * 1.03 # https://www.kaggle.com/kyakovlev/m5-dark-magic\n",
    "    \n",
    "    # Prepare for reshaping\n",
    "    test = test.assign(id=test.id + \"_\" + np.where(test.d < FIRST + LENGTH, \"validation\", \"evaluation\"),\n",
    "                       F=\"F\" + (test.d - FIRST + 1 - LENGTH * (test.d >= FIRST + LENGTH)).astype(\"str\"))\n",
    "    \n",
    "    # Reshape\n",
    "    submission = test.pivot(index=\"id\", columns=\"F\", values=\"demand\").reset_index()[cols].fillna(1)\n",
    "    \n",
    "    # Export\n",
    "    submission.to_csv(file+f'{fold}', index=False)\n",
    "    \n",
    "    return True\n",
    "\n",
    "\n",
    "kf = GroupKFold(FOLDS)\n",
    "group = sales['week'].astype(str) + '_' + sales['year'].astype(str)\n",
    "print('get folds and groups')    \n",
    "x_train_np = sales.values.astype(np.float32)\n",
    "del sales\n",
    "gc.collect()\n",
    "\n",
    "print('preprared data...')\n",
    "    \n",
    "for fold, (trn_idx, val_idx) in enumerate(kf.split(x_train_np, labels, group)):\n",
    "        \n",
    "    print(f'Training fold {fold + 1}')\n",
    "    train_set = lgb.Dataset(x_train_np[trn_idx], labels[trn_idx], feature_name = features)\n",
    "    val_set = lgb.Dataset(x_train_np[val_idx], labels[val_idx], feature_name = features)         \n",
    "    fit = fit_model(train_set, val_set)\n",
    "    print(f'Finished training {fold + 1}')\n",
    "\n",
    "\n",
    "    # predict test\n",
    "    temp_pred_to_csv(fit, test, x, fold)\n",
    "    \n",
    "preds_0=pd.read_csv('submission'+'.csv0')\n",
    "preds_1=pd.read_csv('submission'+'.csv1')\n",
    "preds_2=pd.read_csv('submission'+'.csv2')\n",
    "#preds_3=pd.read_csv('submission'+'3.csv')\n",
    "#preds_4=pd.read_csv('submission'+'4.csv')\n",
    "\n",
    "# merge preds\n",
    "preds = pd.DataFrame()\n",
    "preds['id'] = preds_0['id']\n",
    "for item in preds_0:\n",
    "    if item!='id':\n",
    "        preds[item]=(preds_0[item]*(1/FOLDS))+(preds_1[item]*(1/FOLDS))+(preds_2[item]*(1/FOLDS))\n",
    "preds.to_csv('submission.csv', index=False)\n",
    "'''"
   ]
  }
 ],
 "metadata": {
  "kernelspec": {
   "display_name": "Python 3",
   "language": "python",
   "name": "python3"
  },
  "language_info": {
   "codemirror_mode": {
    "name": "ipython",
    "version": 3
   },
   "file_extension": ".py",
   "mimetype": "text/x-python",
   "name": "python",
   "nbconvert_exporter": "python",
   "pygments_lexer": "ipython3",
   "version": "3.6.6"
  }
 },
 "nbformat": 4,
 "nbformat_minor": 4
}
